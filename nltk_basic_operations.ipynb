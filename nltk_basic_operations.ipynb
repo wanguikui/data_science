{
 "cells": [
  {
   "cell_type": "markdown",
   "metadata": {},
   "source": [
    "# WHAT IS NLTK?\n",
    "- It is a powerful python package that provides a set of diverse natural language algorithms.\n",
    "\n",
    "\n"
   ]
  },
  {
   "cell_type": "markdown",
   "metadata": {},
   "source": [
    "# THE BASICS OF NLP FOR TEXT\n",
    "1. Sentence Tokenization\n",
    "2. Word Tokenization\n",
    "3. TextLemmatization and stemming\n",
    "4. Stop words\n",
    "5. Parts of speech Tagging (POS)\n",
    "\n",
    "Intermediate/Advanced\n",
    "6. Regex\n",
    "7. Bag of words\n",
    "8. PF-IDF(Term frequency - inverse document frequency)"
   ]
  },
  {
   "cell_type": "markdown",
   "metadata": {},
   "source": [
    "### Getting started"
   ]
  },
  {
   "cell_type": "code",
   "execution_count": 47,
   "metadata": {},
   "outputs": [],
   "source": [
    "#Import the nltk library\n",
    "import nltk\n"
   ]
  },
  {
   "cell_type": "markdown",
   "metadata": {},
   "source": [
    "## What is Tokenization\n",
    "* Tokenization is often the first step in text analytics\n",
    "* It is the process of breaking down text into smaller chunks of words called tokens.\n",
    "* A token is a single entity that is building blocks for sentence or paragraph\n",
    "\n",
    "\n",
    "1. Sentence tokenization\n",
    "\n",
    "Break down a paragraph into sentences\n",
    "\n",
    "2. Word tokenization\n",
    "\n",
    "Break down a sentence into words also called word segmentation."
   ]
  },
  {
   "cell_type": "code",
   "execution_count": 48,
   "metadata": {},
   "outputs": [
    {
     "name": "stdout",
     "output_type": "stream",
     "text": [
      "1. Hello Mr. Smith How are you doing today?\n",
      "2. The weather is great, and city is awesome.The sky is pinkish-blue.\n",
      "3. You shouldn't eat cardboard\n"
     ]
    }
   ],
   "source": [
    "# Sentence Tokenization\n",
    "from nltk.tokenize import sent_tokenize\n",
    "text_one = \"Hello Mr. Smith How are you doing today? The weather is great, and city is awesome.The sky is pinkish-blue. You shouldn't eat cardboard\"\n",
    "\n",
    "#tokenize text_one\n",
    "tokenized_paragraph = sent_tokenize(text_one)\n",
    "for y in tokenized_paragraph:\n",
    "    b = tokenized_paragraph.index(y) + 1\n",
    "    print(f\"{b}.\", y)\n",
    "\n"
   ]
  },
  {
   "cell_type": "code",
   "execution_count": 49,
   "metadata": {},
   "outputs": [
    {
     "name": "stdout",
     "output_type": "stream",
     "text": [
      "1. Backgammon is one of the oldest known board games.\n",
      "2. Its history can be traced back nearly 5,000 years to archeological discoveries in the Middle East.\n",
      "3. It is a two player game where each player has fifteen checkers which move between twenty-four points according to the roll of two dice\n"
     ]
    }
   ],
   "source": [
    "text_two = \"\"\"Backgammon is one of the oldest known board games. Its history can be traced back nearly 5,000 years to archeological discoveries in the Middle East. It is a two player game where each player has fifteen checkers which move between twenty-four points according to the roll of two dice\"\"\"\n",
    "\n",
    "tk_par_two = sent_tokenize(text_two)\n",
    "\n",
    "for x in tk_par_two:\n",
    "    a = tk_par_two.index(x) + 1\n",
    "    print(f\"{a}.\",x) "
   ]
  },
  {
   "cell_type": "code",
   "execution_count": 51,
   "metadata": {},
   "outputs": [
    {
     "name": "stdout",
     "output_type": "stream",
     "text": [
      "Hello Mr. Smith How are you doing today ? The weather is great , and city is awesome.The sky is pinkish-blue . You should n't eat cardboard "
     ]
    }
   ],
   "source": [
    "#Word Tokenization\n",
    "from nltk.tokenize import word_tokenize\n",
    "\n",
    "tokenized_word = word_tokenize(text_one)\n",
    "for x in tokenized_word:\n",
    "    print(x,\"\",end=\"\")\n"
   ]
  },
  {
   "cell_type": "code",
   "execution_count": 52,
   "metadata": {},
   "outputs": [
    {
     "data": {
      "text/plain": [
       "['Hello',\n",
       " 'Mr.',\n",
       " 'Smith',\n",
       " 'How',\n",
       " 'are',\n",
       " 'you',\n",
       " 'doing',\n",
       " 'today',\n",
       " '?',\n",
       " 'The',\n",
       " 'weather',\n",
       " 'is',\n",
       " 'great',\n",
       " ',',\n",
       " 'and',\n",
       " 'city',\n",
       " 'is',\n",
       " 'awesome.The',\n",
       " 'sky',\n",
       " 'is',\n",
       " 'pinkish-blue',\n",
       " '.',\n",
       " 'You',\n",
       " 'should',\n",
       " \"n't\",\n",
       " 'eat',\n",
       " 'cardboard']"
      ]
     },
     "execution_count": 52,
     "metadata": {},
     "output_type": "execute_result"
    }
   ],
   "source": [
    "sample_text = \"\"\"Hello Mr. Smith How are you doing today? The weather is great, and city is awesome.The sky is pinkish-blue. You shouldn't eat cardboard\"\"\"\n",
    "\n",
    "tokenized_sample_text = word_tokenize(sample_text)\n",
    "tokenized_sample_text"
   ]
  },
  {
   "cell_type": "code",
   "execution_count": 53,
   "metadata": {},
   "outputs": [
    {
     "data": {
      "text/plain": [
       "FreqDist({'is': 3, 'Hello': 1, 'Mr.': 1, 'Smith': 1, 'How': 1, 'are': 1, 'you': 1, 'doing': 1, 'today': 1, '?': 1, ...})"
      ]
     },
     "execution_count": 53,
     "metadata": {},
     "output_type": "execute_result"
    }
   ],
   "source": [
    "#frequency of tokens\n",
    "from nltk.probability import FreqDist\n",
    "\n",
    "#create an object of the FreqDist class\n",
    "fdist = FreqDist(tokenized_sample_text)\n",
    "\n",
    "fdist"
   ]
  },
  {
   "cell_type": "code",
   "execution_count": 127,
   "metadata": {},
   "outputs": [
    {
     "data": {
      "image/png": "[encoded data removed]",
      "text/plain": [
       "<Figure size 432x288 with 1 Axes>"
      ]
     },
     "metadata": {
      "needs_background": "light"
     },
     "output_type": "display_data"
    },
    {
     "data": {
      "text/plain": [
       "<function matplotlib.pyplot.show(*args, **kw)>"
      ]
     },
     "execution_count": 127,
     "metadata": {},
     "output_type": "execute_result"
    }
   ],
   "source": [
    "#frequency distribution plot\n",
    "\n",
    "import matplotlib.pyplot as plt\n",
    "\n",
    "fdist.plot(cumulative=False)\n",
    "\n",
    "plt.show\n",
    "\n"
   ]
  },
  {
   "cell_type": "markdown",
   "metadata": {},
   "source": [
    "# 2. Text Lemmatization and stemming"
   ]
  },
  {
   "cell_type": "markdown",
   "metadata": {},
   "source": [
    "## Stemming\n",
    "* Obtain the root word from the given word\n",
    "* Using well efficient and organized rules can be cut to obtain the root word (**Stem**)\n",
    "* Stemming is purely ruled based\n",
    "* The basic rule of stemmers is removing suffixes(\"ing\", \"s/es\", \"ed\"\n",
    "* A stemmer operates without knowledge of the context\n",
    "\n",
    "Example 1:\n",
    "A wort like **sit** has variations like: sitting, sat\n",
    "\n",
    "Example 2:\n",
    "A word like **connect** has variations like: connection, connected, connecting\n",
    "\n",
    "Example 3: \n",
    "A work like : **do** has variations like doing, done"
   ]
  },
  {
   "cell_type": "code",
   "execution_count": 55,
   "metadata": {},
   "outputs": [],
   "source": [
    "from nltk.stem import PorterStemmer\n",
    "\n",
    "ps = PorterStemmer()"
   ]
  },
  {
   "cell_type": "code",
   "execution_count": 61,
   "metadata": {},
   "outputs": [
    {
     "name": "stdout",
     "output_type": "stream",
     "text": [
      "sit\n",
      "sat\n",
      "connect\n",
      "connect\n",
      "eat\n",
      "regist\n",
      "registr\n",
      "goe\n",
      "corpor\n"
     ]
    }
   ],
   "source": [
    "w1 = \"sitting\"\n",
    "w2 = \"sat\"\n",
    "w3 = \"connection\"\n",
    "w4= \"connected\"\n",
    "w5 = \"eating\"\n",
    "w6 = \"registered\"\n",
    "w7 = \"registration\"\n",
    "w8 = \"goes\"\n",
    "w9 = \"corporation\"\n",
    "\n",
    "w1_stem = ps.stem(w1)\n",
    "w2_stem = ps.stem(w2)\n",
    "w3_stem = ps.stem(w3)\n",
    "w4_stem = ps.stem(w4)\n",
    "w5_stem = ps.stem(w5)\n",
    "w6_stem = ps.stem(w6)\n",
    "w7_stem = ps.stem(w7)\n",
    "w8_stem = ps.stem(w8)\n",
    "w9_stem = ps.stem(w9)\n",
    "print(w1_stem)\n",
    "print(w2_stem)\n",
    "print(w3_stem)\n",
    "print(w4_stem)\n",
    "print(w5_stem)\n",
    "print(w6_stem)\n",
    "print(w7_stem)\n",
    "print(w8_stem)\n",
    "print(w9_stem)"
   ]
  },
  {
   "cell_type": "markdown",
   "metadata": {},
   "source": [
    "## Lemmatization\n",
    "\n",
    "* Refers to doing things properly with the use of a vocabulary and analysis of words.\n",
    "* Lemmatization retursn the root worf, which is called a (**lemma**)\n",
    "* Makes use of the context of parts of speech tagging.\n",
    " OBJECTIVES\n",
    " \n",
    " 1. Reduce a word to its base form\n",
    " 2. \n",
    "Examples:\n",
    "\n",
    "The word “better” has “good” as its lemma. This link is missed by stemming, as it requires a dictionary look-up.\n",
    "\n",
    "The word “play” is the base form for the word “playing”, and hence this is matched in both stemming and lemmatization.\n",
    "\n",
    "The word “meeting” can be either the base form of a noun or a form of a verb (“to meet”) depending on the context; e.g., “in our last meeting” or “We are meeting again tomorrow”.\n",
    "\n",
    "Unlike stemming, lemmatization attempts to select the correct lemma depending on the context\n"
   ]
  },
  {
   "cell_type": "code",
   "execution_count": 69,
   "metadata": {},
   "outputs": [],
   "source": [
    "from nltk.stem.wordnet import WordNetLemmatizer\n",
    "\n",
    "lem = WordNetLemmatizer()"
   ]
  },
  {
   "cell_type": "code",
   "execution_count": 99,
   "metadata": {},
   "outputs": [
    {
     "name": "stdout",
     "output_type": "stream",
     "text": [
      "fly\n",
      "go\n",
      "good\n",
      "register\n",
      "build\n",
      "amazing\n",
      "agitate\n"
     ]
    }
   ],
   "source": [
    "w1 = \"flying\"\n",
    "w2 = \"went\"\n",
    "w3 = \"better\"\n",
    "w4 = \"registered\"\n",
    "w5 = \"building\"\n",
    "w6 = \"amazing\"\n",
    "w7 = \"agitated\"\n",
    "\n",
    "print(lem.lemmatize(w1,'v'))\n",
    "print(lem.lemmatize(w2,'v'))\n",
    "print(lem.lemmatize(w3,'a'))\n",
    "print(lem.lemmatize(w4,'v'))\n",
    "print(lem.lemmatize(w5,'v'))\n",
    "print(lem.lemmatize(w6,'a'))\n",
    "print(lem.lemmatize(w7,'v'))\n",
    "\n",
    "\n",
    "\n",
    "\n",
    "\n"
   ]
  },
  {
   "cell_type": "markdown",
   "metadata": {},
   "source": [
    "# 3. Stopwords\n",
    "* Stop words act as bridges and their work is to ensure that sentences are gramatically correct. e.g. am, am, is, are, the a, an.\n",
    "* The are the most common words in a language.\n",
    "* These stop words should be filtered before processing a text.(reason they add a lot of noise and you probably want to remove irrelevant word(s).-> stopword removal\n"
   ]
  },
  {
   "cell_type": "code",
   "execution_count": 100,
   "metadata": {},
   "outputs": [],
   "source": [
    "# You can generate your own stop words\n",
    "ls_stopwords = [\"is\",\"are\",\"the\"]"
   ]
  },
  {
   "cell_type": "code",
   "execution_count": 102,
   "metadata": {},
   "outputs": [
    {
     "name": "stdout",
     "output_type": "stream",
     "text": [
      "['i', 'me', 'my', 'myself', 'we', 'our', 'ours', 'ourselves', 'you', \"you're\", \"you've\", \"you'll\", \"you'd\", 'your', 'yours', 'yourself', 'yourselves', 'he', 'him', 'his', 'himself', 'she', \"she's\", 'her', 'hers', 'herself', 'it', \"it's\", 'its', 'itself', 'they', 'them', 'their', 'theirs', 'themselves', 'what', 'which', 'who', 'whom', 'this', 'that', \"that'll\", 'these', 'those', 'am', 'is', 'are', 'was', 'were', 'be', 'been', 'being', 'have', 'has', 'had', 'having', 'do', 'does', 'did', 'doing', 'a', 'an', 'the', 'and', 'but', 'if', 'or', 'because', 'as', 'until', 'while', 'of', 'at', 'by', 'for', 'with', 'about', 'against', 'between', 'into', 'through', 'during', 'before', 'after', 'above', 'below', 'to', 'from', 'up', 'down', 'in', 'out', 'on', 'off', 'over', 'under', 'again', 'further', 'then', 'once', 'here', 'there', 'when', 'where', 'why', 'how', 'all', 'any', 'both', 'each', 'few', 'more', 'most', 'other', 'some', 'such', 'no', 'nor', 'not', 'only', 'own', 'same', 'so', 'than', 'too', 'very', 's', 't', 'can', 'will', 'just', 'don', \"don't\", 'should', \"should've\", 'now', 'd', 'll', 'm', 'o', 're', 've', 'y', 'ain', 'aren', \"aren't\", 'couldn', \"couldn't\", 'didn', \"didn't\", 'doesn', \"doesn't\", 'hadn', \"hadn't\", 'hasn', \"hasn't\", 'haven', \"haven't\", 'isn', \"isn't\", 'ma', 'mightn', \"mightn't\", 'mustn', \"mustn't\", 'needn', \"needn't\", 'shan', \"shan't\", 'shouldn', \"shouldn't\", 'wasn', \"wasn't\", 'weren', \"weren't\", 'won', \"won't\", 'wouldn', \"wouldn't\"]/n"
     ]
    }
   ],
   "source": [
    "# Using a list og NLTK predefined stopwords\n",
    "\n",
    "from nltk.corpus import stopwords\n",
    "\n",
    "print(stopwords.words(\"english\"), end=\"/n\")"
   ]
  },
  {
   "cell_type": "code",
   "execution_count": 110,
   "metadata": {},
   "outputs": [
    {
     "data": {
      "text/plain": [
       "['Backgammon', 'one', 'oldest', 'known', 'board', 'games']"
      ]
     },
     "execution_count": 110,
     "metadata": {},
     "output_type": "execute_result"
    }
   ],
   "source": [
    "sent = \"Backgammon is one of the oldest known board games\"\n",
    "\n",
    "stop_words = set (stopwords.words(\"english\"))\n",
    "\n",
    "tokenized_sent = word_tokenize(sent)\n",
    "\n",
    "tokenized_sent\n",
    "new_list = []\n",
    "for i in tokenized_sent:\n",
    "    if i not in stop_words:\n",
    "        new_list.append(i)\n",
    "\n",
    "new_list"
   ]
  },
  {
   "cell_type": "code",
   "execution_count": 120,
   "metadata": {},
   "outputs": [
    {
     "data": {
      "text/plain": [
       "['Hello',\n",
       " 'Mr.',\n",
       " 'Smith',\n",
       " ',',\n",
       " 'today',\n",
       " '?',\n",
       " 'The',\n",
       " 'weather',\n",
       " 'great',\n",
       " ',',\n",
       " 'city',\n",
       " 'awesome',\n",
       " '.',\n",
       " 'The',\n",
       " 'sky',\n",
       " 'pinkish-blue',\n",
       " '.',\n",
       " 'You',\n",
       " \"n't\",\n",
       " 'eat',\n",
       " 'cardboard']"
      ]
     },
     "execution_count": 120,
     "metadata": {},
     "output_type": "execute_result"
    }
   ],
   "source": [
    "sent2= \"\"\"Hello Mr. Smith, how are you doing today? The weather is great, and city is awesome.\n",
    "The sky is pinkish-blue. You shouldn't eat cardboard\"\"\"\n",
    "\n",
    "stop_words = set (stopwords.words(\"english\"))\n",
    "\n",
    "tk_sent_two = word_tokenize(sent2)\n",
    "\n",
    "tk_sent_two\n",
    "tk_sent_two_without_stop_words = [word for word in tk_sent_two if not word in stop_words]\n",
    "\n",
    "tk_sent_two_without_stop_words\n",
    "\n"
   ]
  },
  {
   "cell_type": "code",
   "execution_count": 123,
   "metadata": {},
   "outputs": [
    {
     "data": {
      "text/plain": [
       "['Hello',\n",
       " 'Smith',\n",
       " 'today',\n",
       " 'The',\n",
       " 'weather',\n",
       " 'great',\n",
       " 'city',\n",
       " 'awesome',\n",
       " 'The',\n",
       " 'sky',\n",
       " 'You',\n",
       " 'eat',\n",
       " 'cardboard']"
      ]
     },
     "execution_count": 123,
     "metadata": {},
     "output_type": "execute_result"
    }
   ],
   "source": [
    "tk_sent_3 = [word for word in tk_sent_two_without_stop_words if word.isalnum()] \n",
    "tk_sent_3\n",
    "\n"
   ]
  },
  {
   "cell_type": "markdown",
   "metadata": {},
   "source": [
    "## 4. Partsofspeech Tagging\n",
    "* Primary goal of POS tagging is to identify gramatical grouping of a given word\n",
    "* Whether is is a Noun, Pronoun, Adjective, Verb"
   ]
  },
  {
   "cell_type": "code",
   "execution_count": 126,
   "metadata": {},
   "outputs": [
    {
     "name": "stdout",
     "output_type": "stream",
     "text": [
      "Hello Smith today The weather great city awesome The sky You eat cardboard "
     ]
    }
   ],
   "source": [
    "for i in tk_sent_3:\n",
    "    print(i, \"\",end=\"\")"
   ]
  },
  {
   "cell_type": "code",
   "execution_count": 125,
   "metadata": {},
   "outputs": [
    {
     "data": {
      "text/plain": [
       "[('Hello', 'NNP'),\n",
       " ('Smith', 'NNP'),\n",
       " ('today', 'NN'),\n",
       " ('The', 'DT'),\n",
       " ('weather', 'NN'),\n",
       " ('great', 'JJ'),\n",
       " ('city', 'NN'),\n",
       " ('awesome', 'VBP'),\n",
       " ('The', 'DT'),\n",
       " ('sky', 'NN'),\n",
       " ('You', 'PRP'),\n",
       " ('eat', 'VBP'),\n",
       " ('cardboard', 'JJ')]"
      ]
     },
     "execution_count": 125,
     "metadata": {},
     "output_type": "execute_result"
    }
   ],
   "source": [
    "nltk.pos_tag(tk_sent_3)"
   ]
  },
  {
   "cell_type": "code",
   "execution_count": null,
   "metadata": {},
   "outputs": [],
   "source": []
  }
 ],
 "metadata": {
  "kernelspec": {
   "display_name": "Python 3",
   "language": "python",
   "name": "python3"
  },
  "language_info": {
   "codemirror_mode": {
    "name": "ipython",
    "version": 3
   },
   "file_extension": ".py",
   "mimetype": "text/x-python",
   "name": "python",
   "nbconvert_exporter": "python",
   "pygments_lexer": "ipython3",
   "version": "3.7.6"
  }
 },
 "nbformat": 4,
 "nbformat_minor": 4
}
