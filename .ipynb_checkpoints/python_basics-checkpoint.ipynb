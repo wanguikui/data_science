{
 "cells": [
  {
   "cell_type": "code",
   "execution_count": 1,
   "metadata": {},
   "outputs": [
    {
     "name": "stdout",
     "output_type": "stream",
     "text": [
      "range(20, 120)\n"
     ]
    }
   ],
   "source": [
    "print(range(20,120))"
   ]
  },
  {
   "cell_type": "code",
   "execution_count": 2,
   "metadata": {},
   "outputs": [
    {
     "name": "stdout",
     "output_type": "stream",
     "text": [
      "[21, 23, 25, 27, 29, 31, 33, 35, 37, 39, 41, 43, 45, 47, 49, 51, 53, 55, 57, 59, 61, 63, 65, 67, 69, 71, 73, 75, 77, 79, 81, 83, 85, 87, 89, 91, 93, 95, 97, 99, 101, 103, 105, 107, 109, 111, 113, 115, 117, 119]\n"
     ]
    }
   ],
   "source": [
    "b=[]\n",
    "for num in range(20,120):\n",
    "    if num %2!=0:\n",
    "        b.append(num)\n",
    "print(b)"
   ]
  },
  {
   "cell_type": "code",
   "execution_count": 3,
   "metadata": {},
   "outputs": [
    {
     "name": "stdout",
     "output_type": "stream",
     "text": [
      "{'21': 21, '23': 23, '25': 25, '27': 27, '29': 29, '31': 31, '33': 33, '35': 35, '37': 37, '39': 39, '41': 41, '43': 43, '45': 45, '47': 47, '49': 49, '51': 51, '53': 53, '55': 55, '57': 57, '59': 59, '61': 61, '63': 63, '65': 65, '67': 67, '69': 69, '71': 71, '73': 73, '75': 75, '77': 77, '79': 79, '81': 81, '83': 83, '85': 85, '87': 87, '89': 89, '91': 91, '93': 93, '95': 95, '97': 97, '99': 99, '101': 101, '103': 103, '105': 105, '107': 107, '109': 109, '111': 111, '113': 113, '115': 115, '117': 117, '119': 119}\n"
     ]
    }
   ],
   "source": [
    "c={}\n",
    "for num in range(20,120):\n",
    "    if num %2!=0:\n",
    "        c[str(num)]=num\n",
    "print(c)"
   ]
  },
  {
   "cell_type": "code",
   "execution_count": null,
   "metadata": {},
   "outputs": [],
   "source": []
  },
  {
   "cell_type": "code",
   "execution_count": 4,
   "metadata": {},
   "outputs": [
    {
     "name": "stdout",
     "output_type": "stream",
     "text": [
      "[1, 4, 9, 16, 25, 36, 49, 64, 81, 100, 121]\n"
     ]
    }
   ],
   "source": [
    "d=[]\n",
    "for num in range(1,12):\n",
    "    square=num*num\n",
    "    d.append(square)\n",
    "\n",
    "print (d)"
   ]
  },
  {
   "cell_type": "code",
   "execution_count": 5,
   "metadata": {},
   "outputs": [
    {
     "name": "stdout",
     "output_type": "stream",
     "text": [
      "[1, 4, 9, 16, 21, 23, 25, 27, 29, 31, 33, 35, 36, 37, 39, 41, 43, 45, 47, 49, 51, 53, 55, 57, 59, 61, 63, 64, 65, 67, 69, 71, 73, 75, 77, 79, 81, 83, 85, 87, 89, 91, 93, 95, 97, 99, 100, 101, 103, 105, 107, 109, 111, 113, 115, 117, 119, 121]\n"
     ]
    }
   ],
   "source": [
    "def convert(set):\n",
    "    return [*set,]\n",
    "newList=set(b+d)\n",
    "print(convert(newList))\n"
   ]
  },
  {
   "cell_type": "code",
   "execution_count": null,
   "metadata": {},
   "outputs": [],
   "source": []
  },
  {
   "cell_type": "code",
   "execution_count": null,
   "metadata": {},
   "outputs": [],
   "source": []
  },
  {
   "cell_type": "code",
   "execution_count": 6,
   "metadata": {},
   "outputs": [
    {
     "name": "stdout",
     "output_type": "stream",
     "text": [
      "[1, 4, 9, 16, 21, 23, 25, 27, 29, 31, 33, 35, 36, 37, 39, 41, 43, 45, 47, 49, 51, 53, 55, 57, 59, 61, 63, 64, 65, 67, 69, 71, 73, 75, 77, 79, 81, 83, 85, 87, 89, 91, 93, 95, 97, 99, 100, 101, 103, 105, 107, 109, 111, 113, 115, 117, 119, 121]\n"
     ]
    }
   ],
   "source": [
    "x=set(b+d)\n",
    "print(list(x))"
   ]
  },
  {
   "cell_type": "code",
   "execution_count": null,
   "metadata": {},
   "outputs": [],
   "source": []
  },
  {
   "cell_type": "code",
   "execution_count": 7,
   "metadata": {},
   "outputs": [],
   "source": [
    "comp_ls=[num for num in range(21,121) if num%2!=0]"
   ]
  },
  {
   "cell_type": "code",
   "execution_count": 8,
   "metadata": {},
   "outputs": [
    {
     "name": "stdout",
     "output_type": "stream",
     "text": [
      "[21, 23, 25, 27, 29, 31, 33, 35, 37, 39, 41, 43, 45, 47, 49, 51, 53, 55, 57, 59, 61, 63, 65, 67, 69, 71, 73, 75, 77, 79, 81, 83, 85, 87, 89, 91, 93, 95, 97, 99, 101, 103, 105, 107, 109, 111, 113, 115, 117, 119]\n"
     ]
    }
   ],
   "source": [
    "print(comp_ls)"
   ]
  },
  {
   "cell_type": "code",
   "execution_count": 9,
   "metadata": {},
   "outputs": [],
   "source": [
    "comp_dict={str(var): var for var in range(20,121)if var %2!=0}"
   ]
  },
  {
   "cell_type": "code",
   "execution_count": 10,
   "metadata": {},
   "outputs": [
    {
     "name": "stdout",
     "output_type": "stream",
     "text": [
      "{'21': 21, '23': 23, '25': 25, '27': 27, '29': 29, '31': 31, '33': 33, '35': 35, '37': 37, '39': 39, '41': 41, '43': 43, '45': 45, '47': 47, '49': 49, '51': 51, '53': 53, '55': 55, '57': 57, '59': 59, '61': 61, '63': 63, '65': 65, '67': 67, '69': 69, '71': 71, '73': 73, '75': 75, '77': 77, '79': 79, '81': 81, '83': 83, '85': 85, '87': 87, '89': 89, '91': 91, '93': 93, '95': 95, '97': 97, '99': 99, '101': 101, '103': 103, '105': 105, '107': 107, '109': 109, '111': 111, '113': 113, '115': 115, '117': 117, '119': 119}\n"
     ]
    }
   ],
   "source": [
    "print(comp_dict)"
   ]
  },
  {
   "cell_type": "code",
   "execution_count": 11,
   "metadata": {},
   "outputs": [],
   "source": [
    "x=90"
   ]
  },
  {
   "cell_type": "markdown",
   "metadata": {},
   "source": [
    "# This is Python Comprehensions\n",
    "\n",
    "## Write less code with comprehensions\n",
    "\n",
    "* Check whats around comprehensions\n",
    "* Peform a for loop to a list, tuple\n",
    "* Check a condition at the end\n",
    "\n",
    "_comprehensions really make coding simpler_"
   ]
  },
  {
   "cell_type": "code",
   "execution_count": null,
   "metadata": {},
   "outputs": [],
   "source": []
  },
  {
   "cell_type": "code",
   "execution_count": null,
   "metadata": {},
   "outputs": [],
   "source": []
  },
  {
   "cell_type": "code",
   "execution_count": null,
   "metadata": {},
   "outputs": [],
   "source": []
  },
  {
   "cell_type": "code",
   "execution_count": null,
   "metadata": {},
   "outputs": [],
   "source": []
  }
 ],
 "metadata": {
  "kernelspec": {
   "display_name": "Python 3",
   "language": "python",
   "name": "python3"
  },
  "language_info": {
   "codemirror_mode": {
    "name": "ipython",
    "version": 3
   },
   "file_extension": ".py",
   "mimetype": "text/x-python",
   "name": "python",
   "nbconvert_exporter": "python",
   "pygments_lexer": "ipython3",
   "version": "3.7.6"
  }
 },
 "nbformat": 4,
 "nbformat_minor": 4
}
